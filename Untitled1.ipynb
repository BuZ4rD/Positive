{
 "cells": [
  {
   "cell_type": "code",
   "execution_count": 15,
   "metadata": {},
   "outputs": [
    {
     "data": {
      "image/png": "[encoded data removed]",
      "text/plain": [
       "plot without title"
      ]
     },
     "metadata": {
      "image/png": {
       "height": 420,
       "width": 420
      }
     },
     "output_type": "display_data"
    }
   ],
   "source": [
    "library(MASS)\n",
    "data = shuttle\n",
    "\n",
    "shuttle$use2<-as.integer(shuttle$use==\"auto\")\n",
    "shuttle$wind2<-as.integer(shuttle$wind==\"head\")\n",
    "logRegShuttle<-glm(use2~wind2, family=binomial, shuttle)\n",
    "\n",
    "plot(x=shuttle$wind2, logRegShuttle$fitted, pch=19, col=\"blue\", xlab=\"Wind\", ylab=\"Use (auto)\")"
   ]
  },
  {
   "cell_type": "code",
   "execution_count": 17,
   "metadata": {},
   "outputs": [
    {
     "data": {
      "text/html": [
       "<style>\n",
       ".dl-inline {width: auto; margin:0; padding: 0}\n",
       ".dl-inline>dt, .dl-inline>dd {float: none; width: auto; display: inline-block}\n",
       ".dl-inline>dt::after {content: \":\\0020\"; padding-right: .5ex}\n",
       ".dl-inline>dt:not(:first-of-type) {padding-left: .5ex}\n",
       "</style><dl class=dl-inline><dt>(Intercept)</dt><dd>1.32727272727273</dd><dt>wind2</dt><dd>0.968688845401173</dd></dl>\n"
      ],
      "text/latex": [
       "\\begin{description*}\n",
       "\\item[(Intercept)] 1.32727272727273\n",
       "\\item[wind2] 0.968688845401173\n",
       "\\end{description*}\n"
      ],
      "text/markdown": [
       "(Intercept)\n",
       ":   1.32727272727273wind2\n",
       ":   0.968688845401173\n",
       "\n"
      ],
      "text/plain": [
       "(Intercept)       wind2 \n",
       "  1.3272727   0.9686888 "
      ]
     },
     "metadata": {},
     "output_type": "display_data"
    }
   ],
   "source": [
    "exp(coef(logRegShuttle))"
   ]
  },
  {
   "cell_type": "code",
   "execution_count": 19,
   "metadata": {},
   "outputs": [
    {
     "data": {
      "text/html": [
       "<style>\n",
       ".dl-inline {width: auto; margin:0; padding: 0}\n",
       ".dl-inline>dt, .dl-inline>dd {float: none; width: auto; display: inline-block}\n",
       ".dl-inline>dt::after {content: \":\\0020\"; padding-right: .5ex}\n",
       ".dl-inline>dt:not(:first-of-type) {padding-left: .5ex}\n",
       "</style><dl class=dl-inline><dt>(Intercept)</dt><dd>1.48515330396993</dd><dt>wind2</dt><dd>0.96849812384265</dd><dt>magnMedium</dt><dd>1</dd><dt>magnOut</dt><dd>0.684194096182358</dd><dt>magnStrong</dt><dd>0.937618079772695</dd></dl>\n"
      ],
      "text/latex": [
       "\\begin{description*}\n",
       "\\item[(Intercept)] 1.48515330396993\n",
       "\\item[wind2] 0.96849812384265\n",
       "\\item[magnMedium] 1\n",
       "\\item[magnOut] 0.684194096182358\n",
       "\\item[magnStrong] 0.937618079772695\n",
       "\\end{description*}\n"
      ],
      "text/markdown": [
       "(Intercept)\n",
       ":   1.48515330396993wind2\n",
       ":   0.96849812384265magnMedium\n",
       ":   1magnOut\n",
       ":   0.684194096182358magnStrong\n",
       ":   0.937618079772695\n",
       "\n"
      ],
      "text/plain": [
       "(Intercept)       wind2  magnMedium     magnOut  magnStrong \n",
       "  1.4851533   0.9684981   1.0000000   0.6841941   0.9376181 "
      ]
     },
     "metadata": {},
     "output_type": "display_data"
    }
   ],
   "source": [
    "# Question2\n",
    "logRegShuttle2<-glm(use2~wind2+magn, family=binomial, shuttle)\n",
    "exp(coef(logRegShuttle2)) #odds"
   ]
  },
  {
   "cell_type": "code",
   "execution_count": 21,
   "metadata": {},
   "outputs": [
    {
     "data": {
      "text/html": [
       "<table>\n",
       "<caption>A matrix: 2 × 4 of type dbl</caption>\n",
       "<thead>\n",
       "\t<tr><th></th><th scope=col>Estimate</th><th scope=col>Std. Error</th><th scope=col>z value</th><th scope=col>Pr(&gt;|z|)</th></tr>\n",
       "</thead>\n",
       "<tbody>\n",
       "\t<tr><th scope=row>(Intercept)</th><td>0.25131443</td><td>0.1781742</td><td>1.4104987</td><td>0.1583925</td></tr>\n",
       "\t<tr><th scope=row>windtail</th><td>0.03181183</td><td>0.2522429</td><td>0.1261159</td><td>0.8996402</td></tr>\n",
       "</tbody>\n",
       "</table>\n"
      ],
      "text/latex": [
       "A matrix: 2 × 4 of type dbl\n",
       "\\begin{tabular}{r|llll}\n",
       "  & Estimate & Std. Error & z value & Pr(>\\textbar{}z\\textbar{})\\\\\n",
       "\\hline\n",
       "\t(Intercept) & 0.25131443 & 0.1781742 & 1.4104987 & 0.1583925\\\\\n",
       "\twindtail & 0.03181183 & 0.2522429 & 0.1261159 & 0.8996402\\\\\n",
       "\\end{tabular}\n"
      ],
      "text/markdown": [
       "\n",
       "A matrix: 2 × 4 of type dbl\n",
       "\n",
       "| <!--/--> | Estimate | Std. Error | z value | Pr(&gt;|z|) |\n",
       "|---|---|---|---|---|\n",
       "| (Intercept) | 0.25131443 | 0.1781742 | 1.4104987 | 0.1583925 |\n",
       "| windtail | 0.03181183 | 0.2522429 | 0.1261159 | 0.8996402 |\n",
       "\n"
      ],
      "text/plain": [
       "            Estimate   Std. Error z value   Pr(>|z|) \n",
       "(Intercept) 0.25131443 0.1781742  1.4104987 0.1583925\n",
       "windtail    0.03181183 0.2522429  0.1261159 0.8996402"
      ]
     },
     "metadata": {},
     "output_type": "display_data"
    }
   ],
   "source": [
    "# Question 3\n",
    "logRegShuttle3<-glm(use2~wind, family=binomial, shuttle)\n",
    "summary(logRegShuttle3)$coef"
   ]
  },
  {
   "cell_type": "code",
   "execution_count": 23,
   "metadata": {},
   "outputs": [
    {
     "data": {
      "text/html": [
       "<table>\n",
       "<caption>A matrix: 2 × 4 of type dbl</caption>\n",
       "<thead>\n",
       "\t<tr><th></th><th scope=col>Estimate</th><th scope=col>Std. Error</th><th scope=col>z value</th><th scope=col>Pr(&gt;|z|)</th></tr>\n",
       "</thead>\n",
       "<tbody>\n",
       "\t<tr><th scope=row>(Intercept)</th><td>-0.25131443</td><td>0.1781742</td><td>-1.4104987</td><td>0.1583925</td></tr>\n",
       "\t<tr><th scope=row>windtail</th><td>-0.03181183</td><td>0.2522429</td><td>-0.1261159</td><td>0.8996402</td></tr>\n",
       "</tbody>\n",
       "</table>\n"
      ],
      "text/latex": [
       "A matrix: 2 × 4 of type dbl\n",
       "\\begin{tabular}{r|llll}\n",
       "  & Estimate & Std. Error & z value & Pr(>\\textbar{}z\\textbar{})\\\\\n",
       "\\hline\n",
       "\t(Intercept) & -0.25131443 & 0.1781742 & -1.4104987 & 0.1583925\\\\\n",
       "\twindtail & -0.03181183 & 0.2522429 & -0.1261159 & 0.8996402\\\\\n",
       "\\end{tabular}\n"
      ],
      "text/markdown": [
       "\n",
       "A matrix: 2 × 4 of type dbl\n",
       "\n",
       "| <!--/--> | Estimate | Std. Error | z value | Pr(&gt;|z|) |\n",
       "|---|---|---|---|---|\n",
       "| (Intercept) | -0.25131443 | 0.1781742 | -1.4104987 | 0.1583925 |\n",
       "| windtail | -0.03181183 | 0.2522429 | -0.1261159 | 0.8996402 |\n",
       "\n"
      ],
      "text/plain": [
       "            Estimate    Std. Error z value    Pr(>|z|) \n",
       "(Intercept) -0.25131443 0.1781742  -1.4104987 0.1583925\n",
       "windtail    -0.03181183 0.2522429  -0.1261159 0.8996402"
      ]
     },
     "metadata": {},
     "output_type": "display_data"
    }
   ],
   "source": [
    "logRegShuttle32<-glm(1-use2~wind, family=binomial, shuttle)\n",
    "summary(logRegShuttle32)$coef"
   ]
  },
  {
   "cell_type": "code",
   "execution_count": 28,
   "metadata": {},
   "outputs": [
    {
     "data": {
      "text/html": [
       "<table>\n",
       "<caption>A data.frame: 6 × 2</caption>\n",
       "<thead>\n",
       "\t<tr><th></th><th scope=col>count</th><th scope=col>spray</th></tr>\n",
       "\t<tr><th></th><th scope=col>&lt;dbl&gt;</th><th scope=col>&lt;fct&gt;</th></tr>\n",
       "</thead>\n",
       "<tbody>\n",
       "\t<tr><th scope=row>1</th><td>10</td><td>A</td></tr>\n",
       "\t<tr><th scope=row>2</th><td> 7</td><td>A</td></tr>\n",
       "\t<tr><th scope=row>3</th><td>20</td><td>A</td></tr>\n",
       "\t<tr><th scope=row>4</th><td>14</td><td>A</td></tr>\n",
       "\t<tr><th scope=row>5</th><td>14</td><td>A</td></tr>\n",
       "\t<tr><th scope=row>6</th><td>12</td><td>A</td></tr>\n",
       "</tbody>\n",
       "</table>\n"
      ],
      "text/latex": [
       "A data.frame: 6 × 2\n",
       "\\begin{tabular}{r|ll}\n",
       "  & count & spray\\\\\n",
       "  & <dbl> & <fct>\\\\\n",
       "\\hline\n",
       "\t1 & 10 & A\\\\\n",
       "\t2 &  7 & A\\\\\n",
       "\t3 & 20 & A\\\\\n",
       "\t4 & 14 & A\\\\\n",
       "\t5 & 14 & A\\\\\n",
       "\t6 & 12 & A\\\\\n",
       "\\end{tabular}\n"
      ],
      "text/markdown": [
       "\n",
       "A data.frame: 6 × 2\n",
       "\n",
       "| <!--/--> | count &lt;dbl&gt; | spray &lt;fct&gt; |\n",
       "|---|---|---|\n",
       "| 1 | 10 | A |\n",
       "| 2 |  7 | A |\n",
       "| 3 | 20 | A |\n",
       "| 4 | 14 | A |\n",
       "| 5 | 14 | A |\n",
       "| 6 | 12 | A |\n",
       "\n"
      ],
      "text/plain": [
       "  count spray\n",
       "1 10    A    \n",
       "2  7    A    \n",
       "3 20    A    \n",
       "4 14    A    \n",
       "5 14    A    \n",
       "6 12    A    "
      ]
     },
     "metadata": {},
     "output_type": "display_data"
    },
    {
     "data": {
      "text/html": [
       "<table>\n",
       "<caption>A matrix: 6 × 4 of type dbl</caption>\n",
       "<thead>\n",
       "\t<tr><th></th><th scope=col>Estimate</th><th scope=col>Std. Error</th><th scope=col>z value</th><th scope=col>Pr(&gt;|z|)</th></tr>\n",
       "</thead>\n",
       "<tbody>\n",
       "\t<tr><th scope=row>factor(spray)A</th><td>2.6741486</td><td>0.07580980</td><td>35.274443</td><td>1.448048e-272</td></tr>\n",
       "\t<tr><th scope=row>factor(spray)B</th><td>2.7300291</td><td>0.07372098</td><td>37.031917</td><td>3.510670e-300</td></tr>\n",
       "\t<tr><th scope=row>factor(spray)C</th><td>0.7339692</td><td>0.19999987</td><td> 3.669848</td><td> 2.426946e-04</td></tr>\n",
       "\t<tr><th scope=row>factor(spray)D</th><td>1.5926308</td><td>0.13018891</td><td>12.233229</td><td> 2.065604e-34</td></tr>\n",
       "\t<tr><th scope=row>factor(spray)E</th><td>1.2527630</td><td>0.15430335</td><td> 8.118832</td><td> 4.706917e-16</td></tr>\n",
       "\t<tr><th scope=row>factor(spray)F</th><td>2.8134107</td><td>0.07071068</td><td>39.787636</td><td> 0.000000e+00</td></tr>\n",
       "</tbody>\n",
       "</table>\n"
      ],
      "text/latex": [
       "A matrix: 6 × 4 of type dbl\n",
       "\\begin{tabular}{r|llll}\n",
       "  & Estimate & Std. Error & z value & Pr(>\\textbar{}z\\textbar{})\\\\\n",
       "\\hline\n",
       "\tfactor(spray)A & 2.6741486 & 0.07580980 & 35.274443 & 1.448048e-272\\\\\n",
       "\tfactor(spray)B & 2.7300291 & 0.07372098 & 37.031917 & 3.510670e-300\\\\\n",
       "\tfactor(spray)C & 0.7339692 & 0.19999987 &  3.669848 &  2.426946e-04\\\\\n",
       "\tfactor(spray)D & 1.5926308 & 0.13018891 & 12.233229 &  2.065604e-34\\\\\n",
       "\tfactor(spray)E & 1.2527630 & 0.15430335 &  8.118832 &  4.706917e-16\\\\\n",
       "\tfactor(spray)F & 2.8134107 & 0.07071068 & 39.787636 &  0.000000e+00\\\\\n",
       "\\end{tabular}\n"
      ],
      "text/markdown": [
       "\n",
       "A matrix: 6 × 4 of type dbl\n",
       "\n",
       "| <!--/--> | Estimate | Std. Error | z value | Pr(&gt;|z|) |\n",
       "|---|---|---|---|---|\n",
       "| factor(spray)A | 2.6741486 | 0.07580980 | 35.274443 | 1.448048e-272 |\n",
       "| factor(spray)B | 2.7300291 | 0.07372098 | 37.031917 | 3.510670e-300 |\n",
       "| factor(spray)C | 0.7339692 | 0.19999987 |  3.669848 |  2.426946e-04 |\n",
       "| factor(spray)D | 1.5926308 | 0.13018891 | 12.233229 |  2.065604e-34 |\n",
       "| factor(spray)E | 1.2527630 | 0.15430335 |  8.118832 |  4.706917e-16 |\n",
       "| factor(spray)F | 2.8134107 | 0.07071068 | 39.787636 |  0.000000e+00 |\n",
       "\n"
      ],
      "text/plain": [
       "               Estimate  Std. Error z value   Pr(>|z|)     \n",
       "factor(spray)A 2.6741486 0.07580980 35.274443 1.448048e-272\n",
       "factor(spray)B 2.7300291 0.07372098 37.031917 3.510670e-300\n",
       "factor(spray)C 0.7339692 0.19999987  3.669848  2.426946e-04\n",
       "factor(spray)D 1.5926308 0.13018891 12.233229  2.065604e-34\n",
       "factor(spray)E 1.2527630 0.15430335  8.118832  4.706917e-16\n",
       "factor(spray)F 2.8134107 0.07071068 39.787636  0.000000e+00"
      ]
     },
     "metadata": {},
     "output_type": "display_data"
    },
    {
     "data": {
      "text/html": [
       "<strong>factor(spray)A:</strong> 0.945652173913043"
      ],
      "text/latex": [
       "\\textbf{factor(spray)A:} 0.945652173913043"
      ],
      "text/markdown": [
       "**factor(spray)A:** 0.945652173913043"
      ],
      "text/plain": [
       "factor(spray)A \n",
       "     0.9456522 "
      ]
     },
     "metadata": {},
     "output_type": "display_data"
    },
    {
     "data": {
      "text/html": [
       "<strong>relevel(spray, \"B\")A:</strong> 0.945652173913044"
      ],
      "text/latex": [
       "\\textbf{relevel(spray, \"B\")A:} 0.945652173913044"
      ],
      "text/markdown": [
       "**relevel(spray, \"B\")A:** 0.945652173913044"
      ],
      "text/plain": [
       "relevel(spray, \"B\")A \n",
       "           0.9456522 "
      ]
     },
     "metadata": {},
     "output_type": "display_data"
    }
   ],
   "source": [
    "# question 4:\n",
    "# Question 4\n",
    "# Consider the insect spray data \\verb|InsectSprays|InsectSprays.\n",
    "# Fit a Poisson model using spray as a factor level.\n",
    "# Report the estimated relative rate comapring spray A (numerator) to spray B (denominator).\n",
    "data(\"InsectSprays\")\n",
    "head(InsectSprays)\n",
    "##   count spray\n",
    "## 1    10     A\n",
    "## 2     7     A\n",
    "## 3    20     A\n",
    "## 4    14     A\n",
    "## 5    14     A\n",
    "## 6    12     A\n",
    "logRegInsect<-glm(count~factor(spray)-1, family=\"poisson\", InsectSprays)\n",
    "summary(logRegInsect)$coef\n",
    "##                 Estimate Std. Error   z value      Pr(>|z|)\n",
    "## factor(spray)A 2.6741486 0.07580980 35.274443 1.448048e-272\n",
    "## factor(spray)B 2.7300291 0.07372098 37.031917 3.510670e-300\n",
    "## factor(spray)C 0.7339692 0.19999987  3.669848  2.426946e-04\n",
    "## factor(spray)D 1.5926308 0.13018891 12.233229  2.065604e-34\n",
    "## factor(spray)E 1.2527630 0.15430335  8.118832  4.706917e-16\n",
    "## factor(spray)F 2.8134107 0.07071068 39.787636  0.000000e+00\n",
    "exp(coef(logRegInsect))[1]/exp(coef(logRegInsect))[2] \n",
    "## factor(spray)A \n",
    "##      0.9456522\n",
    "#otra forma\n",
    "fit <- glm(count ~ relevel(spray, \"B\"), data = InsectSprays, family = poisson)\n",
    "exp(coef(fit))[2]"
   ]
  },
  {
   "cell_type": "code",
   "execution_count": 30,
   "metadata": {},
   "outputs": [
    {
     "data": {
      "text/html": [
       "<table>\n",
       "<caption>A matrix: 6 × 4 of type dbl</caption>\n",
       "<thead>\n",
       "\t<tr><th></th><th scope=col>Estimate</th><th scope=col>Std. Error</th><th scope=col>z value</th><th scope=col>Pr(&gt;|z|)</th></tr>\n",
       "</thead>\n",
       "<tbody>\n",
       "\t<tr><th scope=row>(Intercept)</th><td>-0.066691374</td><td>0.0758098</td><td>-0.87971965</td><td>0.3790112</td></tr>\n",
       "\t<tr><th scope=row>factor(spray)B</th><td> 0.003512473</td><td>0.1057445</td><td> 0.03321659</td><td>0.9735019</td></tr>\n",
       "\t<tr><th scope=row>factor(spray)C</th><td>-0.325350713</td><td>0.2138857</td><td>-1.52114274</td><td>0.1282240</td></tr>\n",
       "\t<tr><th scope=row>factor(spray)D</th><td>-0.118451059</td><td>0.1506528</td><td>-0.78625173</td><td>0.4317200</td></tr>\n",
       "\t<tr><th scope=row>factor(spray)E</th><td>-0.184623054</td><td>0.1719205</td><td>-1.07388635</td><td>0.2828736</td></tr>\n",
       "\t<tr><th scope=row>factor(spray)F</th><td> 0.008422466</td><td>0.1036683</td><td> 0.08124434</td><td>0.9352476</td></tr>\n",
       "</tbody>\n",
       "</table>\n"
      ],
      "text/latex": [
       "A matrix: 6 × 4 of type dbl\n",
       "\\begin{tabular}{r|llll}\n",
       "  & Estimate & Std. Error & z value & Pr(>\\textbar{}z\\textbar{})\\\\\n",
       "\\hline\n",
       "\t(Intercept) & -0.066691374 & 0.0758098 & -0.87971965 & 0.3790112\\\\\n",
       "\tfactor(spray)B &  0.003512473 & 0.1057445 &  0.03321659 & 0.9735019\\\\\n",
       "\tfactor(spray)C & -0.325350713 & 0.2138857 & -1.52114274 & 0.1282240\\\\\n",
       "\tfactor(spray)D & -0.118451059 & 0.1506528 & -0.78625173 & 0.4317200\\\\\n",
       "\tfactor(spray)E & -0.184623054 & 0.1719205 & -1.07388635 & 0.2828736\\\\\n",
       "\tfactor(spray)F &  0.008422466 & 0.1036683 &  0.08124434 & 0.9352476\\\\\n",
       "\\end{tabular}\n"
      ],
      "text/markdown": [
       "\n",
       "A matrix: 6 × 4 of type dbl\n",
       "\n",
       "| <!--/--> | Estimate | Std. Error | z value | Pr(&gt;|z|) |\n",
       "|---|---|---|---|---|\n",
       "| (Intercept) | -0.066691374 | 0.0758098 | -0.87971965 | 0.3790112 |\n",
       "| factor(spray)B |  0.003512473 | 0.1057445 |  0.03321659 | 0.9735019 |\n",
       "| factor(spray)C | -0.325350713 | 0.2138857 | -1.52114274 | 0.1282240 |\n",
       "| factor(spray)D | -0.118451059 | 0.1506528 | -0.78625173 | 0.4317200 |\n",
       "| factor(spray)E | -0.184623054 | 0.1719205 | -1.07388635 | 0.2828736 |\n",
       "| factor(spray)F |  0.008422466 | 0.1036683 |  0.08124434 | 0.9352476 |\n",
       "\n"
      ],
      "text/plain": [
       "               Estimate     Std. Error z value     Pr(>|z|) \n",
       "(Intercept)    -0.066691374 0.0758098  -0.87971965 0.3790112\n",
       "factor(spray)B  0.003512473 0.1057445   0.03321659 0.9735019\n",
       "factor(spray)C -0.325350713 0.2138857  -1.52114274 0.1282240\n",
       "factor(spray)D -0.118451059 0.1506528  -0.78625173 0.4317200\n",
       "factor(spray)E -0.184623054 0.1719205  -1.07388635 0.2828736\n",
       "factor(spray)F  0.008422466 0.1036683   0.08124434 0.9352476"
      ]
     },
     "metadata": {},
     "output_type": "display_data"
    },
    {
     "data": {
      "text/html": [
       "<table>\n",
       "<caption>A matrix: 6 × 4 of type dbl</caption>\n",
       "<thead>\n",
       "\t<tr><th></th><th scope=col>Estimate</th><th scope=col>Std. Error</th><th scope=col>z value</th><th scope=col>Pr(&gt;|z|)</th></tr>\n",
       "</thead>\n",
       "<tbody>\n",
       "\t<tr><th scope=row>(Intercept)</th><td>-2.369276467</td><td>0.0758098</td><td>-31.25290307</td><td>2.038695e-214</td></tr>\n",
       "\t<tr><th scope=row>factor(spray)B</th><td> 0.003512473</td><td>0.1057445</td><td>  0.03321659</td><td> 9.735019e-01</td></tr>\n",
       "\t<tr><th scope=row>factor(spray)C</th><td>-0.325350713</td><td>0.2138857</td><td> -1.52114274</td><td> 1.282240e-01</td></tr>\n",
       "\t<tr><th scope=row>factor(spray)D</th><td>-0.118451059</td><td>0.1506528</td><td> -0.78625173</td><td> 4.317200e-01</td></tr>\n",
       "\t<tr><th scope=row>factor(spray)E</th><td>-0.184623054</td><td>0.1719205</td><td> -1.07388635</td><td> 2.828736e-01</td></tr>\n",
       "\t<tr><th scope=row>factor(spray)F</th><td> 0.008422466</td><td>0.1036683</td><td>  0.08124434</td><td> 9.352476e-01</td></tr>\n",
       "</tbody>\n",
       "</table>\n"
      ],
      "text/latex": [
       "A matrix: 6 × 4 of type dbl\n",
       "\\begin{tabular}{r|llll}\n",
       "  & Estimate & Std. Error & z value & Pr(>\\textbar{}z\\textbar{})\\\\\n",
       "\\hline\n",
       "\t(Intercept) & -2.369276467 & 0.0758098 & -31.25290307 & 2.038695e-214\\\\\n",
       "\tfactor(spray)B &  0.003512473 & 0.1057445 &   0.03321659 &  9.735019e-01\\\\\n",
       "\tfactor(spray)C & -0.325350713 & 0.2138857 &  -1.52114274 &  1.282240e-01\\\\\n",
       "\tfactor(spray)D & -0.118451059 & 0.1506528 &  -0.78625173 &  4.317200e-01\\\\\n",
       "\tfactor(spray)E & -0.184623054 & 0.1719205 &  -1.07388635 &  2.828736e-01\\\\\n",
       "\tfactor(spray)F &  0.008422466 & 0.1036683 &   0.08124434 &  9.352476e-01\\\\\n",
       "\\end{tabular}\n"
      ],
      "text/markdown": [
       "\n",
       "A matrix: 6 × 4 of type dbl\n",
       "\n",
       "| <!--/--> | Estimate | Std. Error | z value | Pr(&gt;|z|) |\n",
       "|---|---|---|---|---|\n",
       "| (Intercept) | -2.369276467 | 0.0758098 | -31.25290307 | 2.038695e-214 |\n",
       "| factor(spray)B |  0.003512473 | 0.1057445 |   0.03321659 |  9.735019e-01 |\n",
       "| factor(spray)C | -0.325350713 | 0.2138857 |  -1.52114274 |  1.282240e-01 |\n",
       "| factor(spray)D | -0.118451059 | 0.1506528 |  -0.78625173 |  4.317200e-01 |\n",
       "| factor(spray)E | -0.184623054 | 0.1719205 |  -1.07388635 |  2.828736e-01 |\n",
       "| factor(spray)F |  0.008422466 | 0.1036683 |   0.08124434 |  9.352476e-01 |\n",
       "\n"
      ],
      "text/plain": [
       "               Estimate     Std. Error z value      Pr(>|z|)     \n",
       "(Intercept)    -2.369276467 0.0758098  -31.25290307 2.038695e-214\n",
       "factor(spray)B  0.003512473 0.1057445    0.03321659  9.735019e-01\n",
       "factor(spray)C -0.325350713 0.2138857   -1.52114274  1.282240e-01\n",
       "factor(spray)D -0.118451059 0.1506528   -0.78625173  4.317200e-01\n",
       "factor(spray)E -0.184623054 0.1719205   -1.07388635  2.828736e-01\n",
       "factor(spray)F  0.008422466 0.1036683    0.08124434  9.352476e-01"
      ]
     },
     "metadata": {},
     "output_type": "display_data"
    }
   ],
   "source": [
    "logRegInsect51<-glm(count~factor(spray)+offset(log(count+1)), family=\"poisson\", InsectSprays)\n",
    "summary(logRegInsect51)$coef\n",
    "##                    Estimate Std. Error     z value  Pr(>|z|)\n",
    "## (Intercept)    -0.066691374  0.0758098 -0.87971965 0.3790112\n",
    "## factor(spray)B  0.003512473  0.1057445  0.03321659 0.9735019\n",
    "## factor(spray)C -0.325350713  0.2138857 -1.52114274 0.1282240\n",
    "## factor(spray)D -0.118451059  0.1506528 -0.78625173 0.4317200\n",
    "## factor(spray)E -0.184623054  0.1719205 -1.07388635 0.2828736\n",
    "## factor(spray)F  0.008422466  0.1036683  0.08124434 0.9352476\n",
    "logRegInsect52<-glm(count~factor(spray)+offset(log(count+1)+log(10)), family=\"poisson\", InsectSprays)\n",
    "summary(logRegInsect52)$coef\n",
    "##                    Estimate Std. Error      z value      Pr(>|z|)\n",
    "## (Intercept)    -2.369276467  0.0758098 -31.25290307 2.038695e-214\n",
    "## factor(spray)B  0.003512473  0.1057445   0.03321659  9.735019e-01\n",
    "## factor(spray)C -0.325350713  0.2138857  -1.52114274  1.282240e-01\n",
    "## factor(spray)D -0.118451059  0.1506528  -0.78625173  4.317200e-01\n",
    "## factor(spray)E -0.184623054  0.1719205  -1.07388635  2.828736e-01\n",
    "## factor(spray)F  0.008422466  0.1036683   0.08124434  9.352476e-01"
   ]
  },
  {
   "cell_type": "code",
   "execution_count": 33,
   "metadata": {},
   "outputs": [
    {
     "data": {
      "image/png": "[encoded data removed]",
      "text/plain": [
       "plot without title"
      ]
     },
     "metadata": {
      "image/png": {
       "height": 420,
       "width": 420
      }
     },
     "output_type": "display_data"
    }
   ],
   "source": [
    "x <- -5:5\n",
    "y <- c(5.12, 3.93, 2.67, 1.87, 0.52, 0.08, 0.93, 2.05, 2.54, 3.87, 4.97)\n",
    "plot(x, y, frame=FALSE, pch=21, bg=\"lightblue\", cex=2)\n",
    "\n",
    "l1<-lm(y[1:6]~ x[1:6])$coef\n",
    "l2<-lm(y[6:11]~ x[6:11])$coef\n",
    "\n",
    "abline(l1, col=\"red\", lwd=2)\n",
    "abline(l2, col=\"red\", lwd=2)\n",
    "\n",
    "knots<-c(0)\n",
    "splineTerms<-sapply(knots,function(knot) (x>knot)*(x-knot))\n",
    "xMat<-cbind(1,x,x^2,splineTerms)\n",
    "xMat2<-cbind(1,x,splineTerms)\n",
    "\n",
    "yhat<-predict(lm(y~xMat-1))\n",
    "yhat2<-predict(lm(y~xMat2-1))\n",
    "\n",
    "lines(x,yhat, col=\"blue\", lwd=2)\n",
    "lines(x,yhat2, col=\"green\", lwd=2)\n",
    "\n",
    "legend(x=-1,y=5, c(\"With lm\",\"With X\",\"With X+X^2\"),lty=c(1,1), lwd=c(2.5,2.5),col=c(\"red\", \"green\",\"blue\"))"
   ]
  },
  {
   "cell_type": "code",
   "execution_count": 34,
   "metadata": {},
   "outputs": [
    {
     "data": {
      "text/html": [
       "1.01306744868035"
      ],
      "text/latex": [
       "1.01306744868035"
      ],
      "text/markdown": [
       "1.01306744868035"
      ],
      "text/plain": [
       "[1] 1.013067"
      ]
     },
     "metadata": {},
     "output_type": "display_data"
    }
   ],
   "source": [
    "z <- (x > 0) * x\n",
    "fit <- lm(y ~ x + z)\n",
    "sum(coef(fit)[2:3])"
   ]
  }
 ],
 "metadata": {
  "kernelspec": {
   "display_name": "R",
   "language": "R",
   "name": "ir"
  },
  "language_info": {
   "codemirror_mode": "r",
   "file_extension": ".r",
   "mimetype": "text/x-r-source",
   "name": "R",
   "pygments_lexer": "r",
   "version": "4.0.2"
  }
 },
 "nbformat": 4,
 "nbformat_minor": 4
}
