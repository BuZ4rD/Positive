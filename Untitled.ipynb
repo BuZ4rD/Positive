{
 "cells": [
  {
   "cell_type": "code",
   "execution_count": 44,
   "metadata": {},
   "outputs": [
    {
     "name": "stdout",
     "output_type": "stream",
     "text": [
      "           First   Second\n",
      "0  Hello World 2  World 2\n",
      "1  Hello World 3  World 3\n",
      "2  Hello World 4  World 4\n",
      "3  Hello World 5  World 5\n",
      "4  Hello World 6  World 6\n"
     ]
    }
   ],
   "source": [
    "import oauth2client.client, oauth2client.file, oauth2client.tools\n",
    "import gspread\n",
    "import pandas as pd\n",
    "\n",
    "flow = oauth2client.client.OAuth2WebServerFlow(\"81233659957-506g5l58li7g6q56p4h6b4lqlos5082h.apps.googleusercontent.com\",\n",
    "                                               \"5dhekf-OGmzbGCBWeDy9-b-q\",\n",
    "                                               'https://spreadsheets.google.com/feeds' \n",
    "                                               \"https://www.googleapis.com/auth/drive\")\n",
    "\n",
    "storage = oauth2client.file.Storage('credentials.dat')\n",
    "credentials = storage.get()\n",
    "if credentials is None or credentials.invalid:\n",
    "    import argparse\n",
    "    flags = argparse.ArgumentParser(parents=[oauth2client.tools.argparser]).parse_args([])\n",
    "    credentials = oauth2client.tools.run_flow(flow, storage, flags)\n",
    "\n",
    "gc = gspread.authorize(credentials)\n",
    "\n",
    "\n",
    "wks = gc.open_by_url (\"https://docs.google.com/spreadsheets/d/1biaro-ubTR9V-6RTXmcSlCRlTQQ6hICkXkedSzw5TeY/edit\").sheet1\n",
    "\n",
    "data = wks.get_all_values()\n",
    "headers = data.pop(0)\n",
    "\n",
    "df = pd.DataFrame(data, columns=['First','Second'])\n",
    "print(df.head())\n",
    "\n"
   ]
  },
  {
   "cell_type": "code",
   "execution_count": 19,
   "metadata": {},
   "outputs": [
    {
     "name": "stdout",
     "output_type": "stream",
     "text": [
      "Help on function open_by_url in module gspread.client:\n",
      "\n",
      "open_by_url(self, url)\n",
      "    Opens a spreadsheet specified by `url`.\n",
      "    \n",
      "    :param str url: URL of a spreadsheet as it appears in a browser.\n",
      "    \n",
      "    :returns: a :class:`~gspread.models.Spreadsheet` instance.\n",
      "    \n",
      "    :raises gspread.SpreadsheetNotFound: if no spreadsheet with\n",
      "                                         specified `url` is found.\n",
      "    \n",
      "    >>> c = gspread.authorize(credentials)\n",
      "    >>> c.open_by_url('https://docs.google.com/spreadsheet/ccc?key=0Bm...FE&hl')\n",
      "\n"
     ]
    }
   ],
   "source": [
    "help(gspread.client.Client.open_by_url)"
   ]
  }
 ],
 "metadata": {
  "kernelspec": {
   "display_name": "Python 3",
   "language": "python",
   "name": "python3"
  },
  "language_info": {
   "codemirror_mode": {
    "name": "ipython",
    "version": 3
   },
   "file_extension": ".py",
   "mimetype": "text/x-python",
   "name": "python",
   "nbconvert_exporter": "python",
   "pygments_lexer": "ipython3",
   "version": "3.7.6"
  }
 },
 "nbformat": 4,
 "nbformat_minor": 4
}
